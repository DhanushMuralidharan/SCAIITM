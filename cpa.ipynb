{
 "cells": [
  {
   "cell_type": "markdown",
   "metadata": {},
   "source": [
    "### Import Dependancies"
   ]
  },
  {
   "cell_type": "code",
   "execution_count": 23,
   "metadata": {},
   "outputs": [],
   "source": [
    "import numpy as np\n",
    "from scipy.stats import linregress"
   ]
  },
  {
   "cell_type": "markdown",
   "metadata": {},
   "source": [
    "### Read data"
   ]
  },
  {
   "cell_type": "code",
   "execution_count": 10,
   "metadata": {},
   "outputs": [],
   "source": [
    "textin = np.load('data/textin_array.npy')\n",
    "textout = np.load('data/textout_array.npy')\n",
    "trace = np.load('data/trace_array.npy')"
   ]
  },
  {
   "cell_type": "markdown",
   "metadata": {},
   "source": [
    "### Print shapes"
   ]
  },
  {
   "cell_type": "code",
   "execution_count": 11,
   "metadata": {},
   "outputs": [
    {
     "name": "stdout",
     "output_type": "stream",
     "text": [
      "(1000, 16)\n",
      "(1000, 16)\n",
      "(1000, 12000)\n"
     ]
    }
   ],
   "source": [
    "print(textin.shape)\n",
    "print(textout.shape)\n",
    "print(trace.shape)\n"
   ]
  },
  {
   "cell_type": "markdown",
   "metadata": {},
   "source": [
    "We will assume that the power consumption is directly proportional to the hamming distance of the input data and output data."
   ]
  },
  {
   "cell_type": "code",
   "execution_count": 20,
   "metadata": {},
   "outputs": [],
   "source": [
    "HD = textin^textout\n",
    "\n",
    "for i in range(HD.shape[0]):\n",
    "    for j in range(HD.shape[1]):\n",
    "        HD[i,j] = bin(HD[i,j]).count('1')"
   ]
  },
  {
   "cell_type": "markdown",
   "metadata": {},
   "source": [
    "### Calculate correlation for power traces with the hamming distance"
   ]
  },
  {
   "cell_type": "code",
   "execution_count": null,
   "metadata": {},
   "outputs": [],
   "source": [
    "HW_matrix = np.zeros((trace.shape[0], 256), dtype=np.uint8)\n",
    "crvs = np.zeros((16,256,trace.shape[1]))\n",
    "key_guess = []\n",
    "for subkey in range(0,16):\n",
    "    for kguess in range(0,256):\n",
    "        for trace_no in range(trace.shape[0]):\n",
    "            HW_matrix[trace_no,kguess] = HD[trace_no,subkey]\n",
    "\n",
    "        for point in range(trace.shape[1]):\n",
    "            hw = HW_matrix[:,kguess]\n",
    "            trc = trace[:,point]\n",
    "            crvs[subkey,kguess,point] = np.abs(linregress(hw,trc).slope)\n",
    "    key_guess.append(crvs[subkey].max(axis=1).argmax())"
   ]
  }
 ],
 "metadata": {
  "interpreter": {
   "hash": "40d3a090f54c6569ab1632332b64b2c03c39dcf918b08424e98f38b5ae0af88f"
  },
  "kernelspec": {
   "display_name": "Python 3.9.7 ('base')",
   "language": "python",
   "name": "python3"
  },
  "language_info": {
   "codemirror_mode": {
    "name": "ipython",
    "version": 3
   },
   "file_extension": ".py",
   "mimetype": "text/x-python",
   "name": "python",
   "nbconvert_exporter": "python",
   "pygments_lexer": "ipython3",
   "version": "3.9.7"
  },
  "orig_nbformat": 4
 },
 "nbformat": 4,
 "nbformat_minor": 2
}
